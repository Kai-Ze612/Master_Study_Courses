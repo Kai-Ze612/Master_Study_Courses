{
 "cells": [
  {
   "cell_type": "markdown",
   "id": "2c2d945e",
   "metadata": {},
   "source": [
    "## What is numpy?\n",
    "Numpy is a powerful library used for numerical operation in Python.\n",
    "1. Efficient in numerical computations compare with python list\n",
    "2. Array(matrix) manipulation"
   ]
  },
  {
   "cell_type": "markdown",
   "id": "f2ad3db6",
   "metadata": {},
   "source": [
    "### Basic array creation\n",
    "Using np.array function"
   ]
  },
  {
   "cell_type": "code",
   "execution_count": 2,
   "id": "a87f6a7a",
   "metadata": {},
   "outputs": [],
   "source": [
    "import numpy as np"
   ]
  },
  {
   "cell_type": "code",
   "execution_count": 3,
   "id": "07d8a884",
   "metadata": {},
   "outputs": [
    {
     "name": "stdout",
     "output_type": "stream",
     "text": [
      "1D Array:\n",
      " [1 2 3 4 5]\n",
      "2D Array:\n",
      " [[1 2 3]\n",
      " [4 5 6]]\n",
      "Transposed 2D Array:\n",
      " [[1 4]\n",
      " [2 5]\n",
      " [3 6]]\n"
     ]
    }
   ],
   "source": [
    "## 1D array\n",
    "array_1d = np.array([1, 2, 3, 4, 5])\n",
    "\n",
    "## 2D array\n",
    "array_2d = np.array([[1, 2, 3], [4, 5, 6]])\n",
    "\n",
    "## transpose of a 2D array\n",
    "array_2d_transpose = array_2d.T\n",
    "\n",
    "print(\"1D Array:\\n\", array_1d)\n",
    "print(\"2D Array:\\n\", array_2d)\n",
    "print(\"Transposed 2D Array:\\n\", array_2d_transpose)"
   ]
  },
  {
   "cell_type": "code",
   "execution_count": 4,
   "id": "124dd563",
   "metadata": {},
   "outputs": [
    {
     "name": "stdout",
     "output_type": "stream",
     "text": [
      "Shape of 2D Array: (2, 3)\n",
      "Size of 2D Array: 6\n",
      "Data type of 2D Array: int64\n",
      "Number of dimensions of 2D Array: 2\n"
     ]
    }
   ],
   "source": [
    "## Displaying the shape of the arrays\n",
    "print(\"Shape of 2D Array:\", array_2d.shape)\n",
    "\n",
    "print(\"Size of 2D Array:\", array_2d.size)\n",
    "\n",
    "print(\"Data type of 2D Array:\", array_2d.dtype)\n",
    "\n",
    "print(\"Number of dimensions of 2D Array:\", array_2d.ndim)"
   ]
  },
  {
   "cell_type": "markdown",
   "id": "7f019cff",
   "metadata": {},
   "source": [
    "## Matrices Creation Functions\n",
    "### Create all zeros matrix\n",
    "np.zeros((3,4))\n",
    "\n",
    "### Create all one matrix\n",
    "np.ones((3,4))\n",
    "\n",
    "### Create identity matrix\n",
    "np.eye(4)"
   ]
  },
  {
   "cell_type": "code",
   "execution_count": 5,
   "id": "08960613",
   "metadata": {},
   "outputs": [
    {
     "name": "stdout",
     "output_type": "stream",
     "text": [
      "Zero Matrix:\n",
      " [[0. 0. 0.]\n",
      " [0. 0. 0.]\n",
      " [0. 0. 0.]]\n",
      "One Matrix:\n",
      " [[1. 1. 1.]\n",
      " [1. 1. 1.]\n",
      " [1. 1. 1.]]\n",
      "Identity Matrix:\n",
      " [[1. 0. 0.]\n",
      " [0. 1. 0.]\n",
      " [0. 0. 1.]]\n"
     ]
    }
   ],
   "source": [
    "zero_matrix = np.zeros((3, 3))\n",
    "one_matrix = np.ones((3, 3))\n",
    "identity_matrix = np.eye(3)\n",
    "\n",
    "print(\"Zero Matrix:\\n\", zero_matrix)\n",
    "print(\"One Matrix:\\n\", one_matrix)\n",
    "print(\"Identity Matrix:\\n\", identity_matrix)"
   ]
  },
  {
   "cell_type": "markdown",
   "id": "73d07589",
   "metadata": {},
   "source": [
    "## Data type and memory management\n",
    "\n",
    "We can assign desired data type in the array by using dtype = np.int32, 64....."
   ]
  },
  {
   "cell_type": "code",
   "execution_count": 6,
   "id": "b46cfec9",
   "metadata": {},
   "outputs": [
    {
     "name": "stdout",
     "output_type": "stream",
     "text": [
      "Integer Array: [1 2 3]\n",
      "Float Array: [1. 2. 3.]\n",
      "Complex Array: [1.+2.j 3.+4.j]\n",
      "Converted Integer Array from Float Array: [1 2 3]\n"
     ]
    }
   ],
   "source": [
    "int_array = np.array([1, 2, 3], dtype=np.int64)\n",
    "float_array = np.array([1.0, 2.0, 3.0], dtype=np.float64)\n",
    "\n",
    "print(\"Integer Array:\", int_array)\n",
    "print(\"Float Array:\", float_array)\n",
    "\n",
    "complex_array = np.array([1+2j, 3+4j], dtype=np.complex128)\n",
    "print(\"Complex Array:\", complex_array)\n",
    "\n",
    "## We are also able to convert between data types\n",
    "converted_int_array = float_array.astype(np.int64)\n",
    "print(\"Converted Integer Array from Float Array:\", converted_int_array)"
   ]
  },
  {
   "cell_type": "markdown",
   "id": "356439a4",
   "metadata": {},
   "source": [
    "## Indexing and Slicing\n",
    "\n",
    "This is a very important function of matrix operation."
   ]
  },
  {
   "cell_type": "code",
   "execution_count": 7,
   "id": "b96f69fe",
   "metadata": {},
   "outputs": [
    {
     "name": "stdout",
     "output_type": "stream",
     "text": [
      "2D Array:\n",
      " [[ 0  1  2  3  4  5]\n",
      " [ 6  7  8  9 10 11]\n",
      " [12 13 14 15 16 17]\n",
      " [18 19 20 21 22 23]]\n",
      "Element at (1, 2): 8\n",
      "Second Row: [ 6  7  8  9 10 11]\n",
      "Third Column: [ 2  8 14 20]\n",
      "Sub-array (rows 1-2, columns 2-3):\n",
      " [[ 8  9]\n",
      " [14 15]]\n"
     ]
    }
   ],
   "source": [
    "arr = np.arange(24).reshape(4, 6)\n",
    "print(\"2D Array:\\n\", arr)\n",
    "\n",
    "# single element access\n",
    "print(\"Element at (1, 2):\", arr[1, 2])\n",
    "\n",
    "# slicing\n",
    "get_row = arr[1, :]  # get the second row\n",
    "print(\"Second Row:\", get_row)\n",
    "\n",
    "get_column = arr[:, 2]  # get the third column\n",
    "print(\"Third Column:\", get_column)\n",
    "\n",
    "sub_array = arr[1:3, 2:4]  # get a sub-array\n",
    "print(\"Sub-array (rows 1-2, columns 2-3):\\n\", sub_array)"
   ]
  },
  {
   "cell_type": "code",
   "execution_count": 8,
   "id": "1c6ca8f7",
   "metadata": {},
   "outputs": [
    {
     "name": "stdout",
     "output_type": "stream",
     "text": [
      "Boolean Index:\n",
      " [[False False False False False False]\n",
      " [False False False False False  True]\n",
      " [ True  True  True  True  True  True]\n",
      " [ True  True  True  True  True  True]]\n",
      "Filtered Array (values > 10): [11 12 13 14 15 16 17 18 19 20 21 22 23]\n",
      "Fancy Indexing Result: [ 1 15]\n"
     ]
    }
   ],
   "source": [
    "## Advanced indexing\n",
    "\n",
    "## Boolean indexing\n",
    "bool_index = arr > 10  # create a boolean index\n",
    "print(\"Boolean Index:\\n\", bool_index)\n",
    "\n",
    "bool_filtered = arr[bool_index]  # filter the array using the boolean index\n",
    "print(\"Filtered Array (values > 10):\", bool_filtered)\n",
    "\n",
    "# Fancy indexing\n",
    "fancy_index = arr[[0, 2], [1, 3]]  # get elements at (0,1) and (2,3)\n",
    "print(\"Fancy Indexing Result:\", fancy_index)"
   ]
  },
  {
   "cell_type": "markdown",
   "id": "518d8350",
   "metadata": {},
   "source": [
    "## Broadcasting\n",
    "\n",
    "Broadcasting enables operations between arrays of different shapes without explicit loops.\n",
    "\n",
    "### Rule of broadcasting:\n",
    "* 1. If the arrays have different numbers of dimensions, the shape of the smaller-dimensional array is padded with ones on the left side until both shapes are the same length.\n",
    "* 2. If the shapes of the arrays do not match in any dimension, the array with shape 1 in that dimension is stretched to match the other array's shape.\n",
    "* 3. If the shapes still do not match, an error is raised.\n"
   ]
  },
  {
   "cell_type": "code",
   "execution_count": 9,
   "id": "57ec4267",
   "metadata": {},
   "outputs": [
    {
     "name": "stdout",
     "output_type": "stream",
     "text": [
      "the result of adding row and column vectors:\n",
      " [[20 30 40]\n",
      " [30 40 50]\n",
      " [40 50 60]]\n"
     ]
    }
   ],
   "source": [
    "arr = np.array([[1,2,3], [4,5,6]])\n",
    "result = arr + 10\n",
    "\n",
    "row_vector = np.array([10, 20, 30])\n",
    "column_vector = np.array([[10], [20], [30]])\n",
    "\n",
    "result_addition = row_vector + column_vector  # broadcasting\n",
    "print(\"the result of adding row and column vectors:\\n\", result_addition)\n",
    "\n",
    "## In this case, the row vector is 1*3 will be broadcasted to 3*3, and the column vector is 3*1 will be broadcasted to 3*3."
   ]
  },
  {
   "cell_type": "code",
   "execution_count": 10,
   "id": "c28fe36f",
   "metadata": {},
   "outputs": [],
   "source": [
    "# Broadcasting example 2\n",
    "a = np.array([0, 1, 2, 3])\n",
    "b = np.array([1, 2])\n",
    "\n",
    "# a is shape 1* 4\n",
    "# b is shape 1* 2\n",
    "# b can not be broadcasted to the shape of a"
   ]
  },
  {
   "cell_type": "markdown",
   "id": "66eb5bb2",
   "metadata": {},
   "source": [
    "## More complex example\n",
    "If the matrix can not be broadcasted, we can do:\n",
    "1. slicing one of the matrix.\n",
    "2. using np.newaxis to add one dimensions into two matrices, then the dim with 1 will be broadcasted."
   ]
  },
  {
   "cell_type": "code",
   "execution_count": 11,
   "id": "0cd464f5",
   "metadata": {},
   "outputs": [
    {
     "name": "stdout",
     "output_type": "stream",
     "text": [
      "[[ 0  2  4 18]\n",
      " [ 6  8 10 20]\n",
      " [12 14 16 22]]\n",
      "[[[ 0  1  2  9]\n",
      "  [ 4  5  6 11]\n",
      "  [ 8  9 10 13]\n",
      "  [21 22 23 24]]\n",
      "\n",
      " [[ 3  4  5 12]\n",
      "  [ 7  8  9 14]\n",
      "  [11 12 13 16]\n",
      "  [22 23 24 25]]\n",
      "\n",
      " [[ 6  7  8 15]\n",
      "  [10 11 12 17]\n",
      "  [14 15 16 19]\n",
      "  [23 24 25 26]]]\n"
     ]
    }
   ],
   "source": [
    "## Broadcasting example 3\n",
    "a = np.array([[0, 1, 2, 9], [3, 4, 5, 10], [6, 7, 8, 11]]) ## 3x4\n",
    "b = np.array([[0, 1, 2, 9], [3, 4, 5, 10], [6, 7, 8, 11], [12, 13, 14, 15]]) ## 4x4\n",
    "\n",
    "## a and b can not be broadcasted, because the number of dimensions is neither equal nor one of them is 1\n",
    "## We have two ways to solve the problem\n",
    "\n",
    "## 1. slice b array into 3x4\n",
    "\n",
    "b_slice = b[:3, :]\n",
    "print(a + b_slice)\n",
    "\n",
    "## 2. Add new axis to make shapes broadcast-compatible\n",
    "a_exp = a[:, :, np.newaxis] ## 3x4x1\n",
    "b_exp = b[np.newaxis, :, :] ## 1x4x4\n",
    "\n",
    "print(a_exp + b_exp) ## 3x4x4\n"
   ]
  },
  {
   "cell_type": "markdown",
   "id": "748d6136",
   "metadata": {},
   "source": [
    "## Study of broadcasting example\n"
   ]
  },
  {
   "cell_type": "code",
   "execution_count": null,
   "id": "a6fcf515",
   "metadata": {},
   "outputs": [
    {
     "name": "stdout",
     "output_type": "stream",
     "text": [
      "[[ 6  8]\n",
      " [10 12]]\n",
      "[[ 4  6]\n",
      " [12 14]]\n",
      "[[ 3  7]\n",
      " [11 15]]\n"
     ]
    }
   ],
   "source": [
    "arr = np.array([[[1, 2],\n",
    "                 [3, 4]],\n",
    "                [[5, 6],\n",
    "                 [7, 8]]])  # shape: (2,2,2)\n",
    "\n",
    "## sum depth wise, two matrices will be summed\n",
    "print(np.sum(arr, axis=0))  # shape: (2,2)\n",
    "## This will sume the two 2x2 matrices into one 2x2 matrix\n",
    "\n",
    "## sum column values\n",
    "print(np.sum(arr, axis=1))  # shape: (2,2)\n",
    "## This will the column of individual matrices, building a new 2x2 matrix\n",
    "\n",
    "## sum row values\n",
    "print(np.sum(arr, axis=2))  # shape: (2,2)\n",
    "## This will sum the row of individual matrices, building a new 2x2 matrix\n"
   ]
  },
  {
   "cell_type": "markdown",
   "id": "d994eda6",
   "metadata": {},
   "source": [
    "## Dimension Operation\n",
    "\n",
    "We can use reshape to reshape the dimension of matrix.\n",
    "\n",
    "We can use flatten to make a 1D array.\n",
    "\n",
    "We can use stack fucntion to concatenate two matrices"
   ]
  },
  {
   "cell_type": "code",
   "execution_count": null,
   "id": "c182ef66",
   "metadata": {},
   "outputs": [
    {
     "name": "stdout",
     "output_type": "stream",
     "text": [
      "Flattened 1D Array: [ 0  1  2  3  4  5  6  7  8  9 10 11 12 13 14 15 16 17 18 19 20 21 22 23]\n",
      "Expanded Array Shape: (4, 6, 1)\n",
      "Squeezed Array Shape: (4, 6)\n"
     ]
    }
   ],
   "source": [
    "arr = np.arange(24)\n",
    "\n",
    "arr_1 = arr.reshape(4, 6)  # shape: (4,6)\n",
    "arr_2 = arr.reshape(2, 3, 4)  # shape: (2,3,4)\n",
    "\n",
    "## This will reshape the array into 1D copy\n",
    "flattened = arr_1.flatten()  # shape: (24,)\n",
    "print(\"Flattened 1D Array:\", flattened)\n",
    "\n",
    "## This will reshape the array into 1D view\n",
    "raveled = arr_2.ravel()  # shape: (24,)\n",
    "\n",
    "## Dimensions manipulation\n",
    "expanded = arr_1[:, :, np.newaxis]  # shape: (4,6,1)\n",
    "print(\"Expanded Array Shape:\", expanded.shape)\n",
    "squeezed = expanded.squeeze()  # shape: (4,6)\n",
    "print(\"Squeezed Array Shape:\", squeezed.shape)"
   ]
  },
  {
   "cell_type": "code",
   "execution_count": 15,
   "id": "39699818",
   "metadata": {},
   "outputs": [
    {
     "name": "stdout",
     "output_type": "stream",
     "text": [
      "Vertical Stack:\n",
      " [[ 1  2  3]\n",
      " [ 4  5  6]\n",
      " [ 7  8  9]\n",
      " [10 11 12]]\n",
      "Horizontal Stack:\n",
      " [[ 1  2  3  7  8  9]\n",
      " [ 4  5  6 10 11 12]]\n",
      "Depth Stack:\n",
      " [[[ 1  7]\n",
      "  [ 2  8]\n",
      "  [ 3  9]]\n",
      "\n",
      " [[ 4 10]\n",
      "  [ 5 11]\n",
      "  [ 6 12]]]\n"
     ]
    }
   ],
   "source": [
    "a = np.array([[1, 2, 3], [4, 5, 6]])\n",
    "b = np.array([[7, 8, 9], [10, 11, 12]])\n",
    "\n",
    "vertical_stack = np.vstack((a, b))  # Stack arrays vertically\n",
    "horizontal_stack = np.hstack((a, b))  # Stack arrays horizontally\n",
    "print(\"Vertical Stack:\\n\", vertical_stack)\n",
    "print(\"Horizontal Stack:\\n\", horizontal_stack)\n",
    "\n",
    "depth_stack = np.dstack([a, b])          # Stack along third dimension\n",
    "print(\"Depth Stack:\\n\", depth_stack)"
   ]
  },
  {
   "cell_type": "code",
   "execution_count": null,
   "id": "80d4df4f",
   "metadata": {},
   "outputs": [
    {
     "name": "stdout",
     "output_type": "stream",
     "text": [
      "Concatenated along axis 0:\n",
      " [[ 1  2  3]\n",
      " [ 4  5  6]\n",
      " [ 7  8  9]\n",
      " [10 11 12]]\n",
      "Concatenated along axis 1:\n",
      " [[ 1  2  3  7  8  9]\n",
      " [ 4  5  6 10 11 12]]\n"
     ]
    }
   ],
   "source": [
    "a = np.array([[1, 2, 3], [4, 5, 6]])\n",
    "b = np.array([[7, 8, 9], [10, 11, 12]])\n",
    "\n",
    "# Using concatenate for more control\n",
    "concat_axis0 = np.concatenate([a, b], axis=0)  # Along rows\n",
    "concat_axis1 = np.concatenate([a, b], axis=1)  # Along columns\n",
    "print(\"Concatenated along axis 0:\\n\", concat_axis0)\n",
    "print(\"Concatenated along axis 1:\\n\", concat_axis1)"
   ]
  },
  {
   "cell_type": "code",
   "execution_count": 26,
   "id": "860df5ff",
   "metadata": {},
   "outputs": [
    {
     "name": "stdout",
     "output_type": "stream",
     "text": [
      "Split Arrays: [array([[ 8, 10],\n",
      "       [14, 16]]), array([[12],\n",
      "       [18]])]\n",
      "Split Arrays: [array([[ 8, 10, 12]]), array([[14, 16, 18]])]\n"
     ]
    }
   ],
   "source": [
    "a = np.array([[1, 2, 3], [4, 5, 6]])\n",
    "b = np.array([[7, 8, 9], [10, 11, 12]])\n",
    "c = a + b\n",
    "\n",
    "spilt_arrays_1 = np.array_split(c, 2, axis = 1)  # Split into 2 parts along columns\n",
    "spilt_arrays_2 = np.array_split(c, 2, axis = 0)  # Split into 2 parts along rows\n",
    "print(\"Split Arrays:\", spilt_arrays_1)\n",
    "print(\"Split Arrays:\", spilt_arrays_2)"
   ]
  }
 ],
 "metadata": {
  "kernelspec": {
   "display_name": "base",
   "language": "python",
   "name": "python3"
  },
  "language_info": {
   "codemirror_mode": {
    "name": "ipython",
    "version": 3
   },
   "file_extension": ".py",
   "mimetype": "text/x-python",
   "name": "python",
   "nbconvert_exporter": "python",
   "pygments_lexer": "ipython3",
   "version": "3.12.3"
  }
 },
 "nbformat": 4,
 "nbformat_minor": 5
}
