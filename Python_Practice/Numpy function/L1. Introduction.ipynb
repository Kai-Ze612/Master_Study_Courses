{
 "cells": [
  {
   "cell_type": "markdown",
   "metadata": {},
   "source": [
    "## What is numpy?\n",
    "Numpy is a powerful library used for numerical operation in Python.\n",
    "1. Efficient in numerical computations compare with python list\n",
    "2. Array(matrix) manipulation"
   ]
  },
  {
   "cell_type": "code",
   "execution_count": 28,
   "metadata": {},
   "outputs": [
    {
     "name": "stdout",
     "output_type": "stream",
     "text": [
      "[1 2 3 4 5] \n",
      "\n",
      " [[1 2 3]\n",
      " [4 5 6]] \n",
      "\n",
      " [[[ 1  2  3]\n",
      "  [ 4  5  6]]\n",
      "\n",
      " [[ 7  8  9]\n",
      "  [10 11 12]]] \n",
      "\n",
      " [[[[ 1  2  3]\n",
      "   [ 4  5  6]]\n",
      "\n",
      "  [[ 7  8  9]\n",
      "   [10 11 12]]]\n",
      "\n",
      "\n",
      " [[[13 14 15]\n",
      "   [16 17 18]]\n",
      "\n",
      "  [[19 20 21]\n",
      "   [22 23 24]]]]\n"
     ]
    }
   ],
   "source": [
    "##import numpy\n",
    "import numpy as np\n",
    "\n",
    "## create a numpy array\n",
    "\n",
    "## a 1D array\n",
    "array1 = np.array([1, 2, 3, 4, 5])\n",
    "\n",
    "## a 2D array\n",
    "array2 = np.array([[1, 2, 3], [4, 5, 6]])\n",
    "\n",
    "## a 3D array\n",
    "array3 = np.array([[[1, 2, 3], [4, 5, 6]], [[7, 8, 9], [10, 11, 12]]])\n",
    "\n",
    "## a 4D array\n",
    "array4 = np.array([[[[1, 2, 3], [4, 5, 6]], [[7, 8, 9], [10, 11, 12]]], [[[13, 14, 15], [16, 17, 18]], [[19, 20, 21], [22, 23, 24]]]])\n",
    "\n",
    "print(array1, \"\\n\\n\" ,array2, \"\\n\\n\", array3, \"\\n\\n\", array4)"
   ]
  },
  {
   "cell_type": "code",
   "execution_count": 31,
   "metadata": {},
   "outputs": [
    {
     "name": "stdout",
     "output_type": "stream",
     "text": [
      "(2, 2, 3)\n",
      "12\n",
      "3\n"
     ]
    }
   ],
   "source": [
    "## Check the shape of the array\n",
    "print(array3.shape)\n",
    "## The result will be (2, 2, 3) which means that the array has 2 elements, each element has 2 elements, and each of those elements has 3 elements.\n",
    "\n",
    "## Check the size of the array\n",
    "print(array3.size)\n",
    "## The result will be 12 which means that the array has 12 elements.\n",
    "\n",
    "## Check the dimension of the array\n",
    "print(array3.ndim)\n",
    "## The result will be 3 which means that the array has 3 dimensions.\n",
    "## This means (depth, rows, columns), in total 3 dimensions.\n",
    "\n"
   ]
  },
  {
   "cell_type": "code",
   "execution_count": 42,
   "metadata": {},
   "outputs": [
    {
     "name": "stdout",
     "output_type": "stream",
     "text": [
      "[[0. 0. 0.]\n",
      " [0. 0. 0.]] \n",
      "\n",
      "[[1. 1. 1.]\n",
      " [1. 1. 1.]] \n",
      "\n",
      "[[0.10144851 0.85760776 0.74501719]\n",
      " [0.95871944 0.42411759 0.6500538 ]] \n",
      "\n"
     ]
    }
   ],
   "source": [
    "## Create an array with zeros\n",
    "array5 = np.zeros((2, 3)) ## 2 rows, 3 columns\n",
    "print(array5, \"\\n\")\n",
    "\n",
    "## Create an array with ones\n",
    "array6 = np.ones((2, 3)) ## 2 rows, 3 columns\n",
    "print(array6, \"\\n\")\n",
    "\n",
    "## Create an array with random numbers\n",
    "array7 = np.random.random((2, 3)) ## 2 rows, 3 columns ## random numbers between 0 and 1\n",
    "print(array7, \"\\n\")\n"
   ]
  },
  {
   "cell_type": "code",
   "execution_count": 46,
   "metadata": {},
   "outputs": [
    {
     "name": "stdout",
     "output_type": "stream",
     "text": [
      "[1 3 5 7 9] \n",
      "\n",
      "[ 1.   2.8  4.6  6.4  8.2 10. ] \n",
      "\n"
     ]
    }
   ],
   "source": [
    "## Create an array with a range of numbers\n",
    "array8 = np.arange(1, 10, 2) ## start, stop, step\n",
    "print(array8, \"\\n\")\n",
    "\n",
    "## Create an array with evenly spaced numbers\n",
    "array9 = np.linspace(1, 10, 6) ## start, stop, number of elements\n",
    "print(array9, \"\\n\")"
   ]
  }
 ],
 "metadata": {
  "kernelspec": {
   "display_name": "base",
   "language": "python",
   "name": "python3"
  },
  "language_info": {
   "codemirror_mode": {
    "name": "ipython",
    "version": 3
   },
   "file_extension": ".py",
   "mimetype": "text/x-python",
   "name": "python",
   "nbconvert_exporter": "python",
   "pygments_lexer": "ipython3",
   "version": "3.11.7"
  }
 },
 "nbformat": 4,
 "nbformat_minor": 2
}
