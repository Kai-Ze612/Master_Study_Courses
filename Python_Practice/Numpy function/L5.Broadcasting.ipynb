{
 "cells": [
  {
   "cell_type": "code",
   "execution_count": null,
   "metadata": {},
   "outputs": [
    {
     "name": "stdout",
     "output_type": "stream",
     "text": [
      "[1 2 3]\n",
      "[[1 2]\n",
      " [2 3]\n",
      " [3 4]]\n",
      "[[ 0  2  4 18]\n",
      " [ 6  8 10 20]\n",
      " [12 14 16 22]]\n",
      "[[[ 0  1  2  9]\n",
      "  [ 4  5  6 11]\n",
      "  [ 8  9 10 13]\n",
      "  [21 22 23 24]]\n",
      "\n",
      " [[ 3  4  5 12]\n",
      "  [ 7  8  9 14]\n",
      "  [11 12 13 16]\n",
      "  [22 23 24 25]]\n",
      "\n",
      " [[ 6  7  8 15]\n",
      "  [10 11 12 17]\n",
      "  [14 15 16 19]\n",
      "  [23 24 25 26]]]\n"
     ]
    }
   ],
   "source": [
    "import numpy as np\n",
    "\n",
    "## Numpy broadcasting rules:\n",
    "# 1. If the two arrays differ in their number of dimensions, the shape of the one with fewer dimensions is padded with ones on its leading (left) side.\n",
    "# 2. If the shape of the two arrays does not match in any dimension, the array with shape equal to 1 in that dimension is stretched to match the other shape.\n",
    "\n",
    "# Broadcasting example 1\n",
    "a = np.array([0, 1, 2])\n",
    "b = np.array([1])\n",
    "\n",
    "## b will be broadcasted to [1 1 1]\n",
    "print(a + b) # [1 2 3]\n",
    "\n",
    "# Broadcasting example 2\n",
    "a = np.array([0, 1, 2, 3])\n",
    "b = np.array([1, 2])\n",
    "\n",
    "## b can not be broadcasted, because the number of dimensions is neither equal nor one of them is 1\n",
    "\n",
    "\n",
    "# Broadcasting example 3\n",
    "a = np.array([[0], [1], [2]])\n",
    "b = np.array([1, 2])\n",
    "\n",
    "## a will be broadcasted to [[0 0], [1 1], [2 2]]\n",
    "## b will be broadcasted to [[1 2], [1 2], [1 2]]\n",
    "\n",
    "print(a + b) # [[1 2], [2 3], [3 4]]\n",
    "\n",
    "## Broadcasting example 4\n",
    "a = np.array([[0, 1, 2, 9], [3, 4, 5, 10], [6, 7, 8, 11]]) ## 3x4\n",
    "b = np.array([[0, 1, 2, 9], [3, 4, 5, 10], [6, 7, 8, 11], [12, 13, 14, 15]]) ## 4x4\n",
    "\n",
    "## a and b can not be broadcasted, because the number of dimensions is neither equal nor one of them is 1\n",
    "## We have two ways to solve the problem\n",
    "## 1. slice b array into 3x4\n",
    "\n",
    "b_slice = b[:3, :]\n",
    "print(a + b_slice)\n",
    "\n",
    "## 2. Add new axis to make shapes broadcast-compatible\n",
    "a_exp = a[:, :, np.newaxis] ## 3x4x1\n",
    "b_exp = b[np.newaxis, :, :] ## 1x4x4\n",
    "\n",
    "print(a_exp + b_exp) ## 3x4x4\n",
    "\n"
   ]
  },
  {
   "cell_type": "code",
   "execution_count": 18,
   "metadata": {},
   "outputs": [
    {
     "name": "stdout",
     "output_type": "stream",
     "text": [
      "[[ 6  8]\n",
      " [10 12]]\n",
      "[[ 4  6]\n",
      " [12 14]]\n",
      "[[ 3  7]\n",
      " [11 15]]\n"
     ]
    }
   ],
   "source": [
    "arr = np.array([[[1, 2],\n",
    "                 [3, 4]],\n",
    "                [[5, 6],\n",
    "                 [7, 8]]])  # shape: (2,2,2)\n",
    "\n",
    "## sum depth wise, two matrices will be summed\n",
    "print(np.sum(arr, axis=0))  # shape: (2,2)\n",
    "\n",
    "## sum column values\n",
    "print(np.sum(arr, axis=1))  # shape: (2,2)\n",
    "\n",
    "## sum row values\n",
    "print(np.sum(arr, axis=2))  # shape: (2,2)\n",
    "\n"
   ]
  }
 ],
 "metadata": {
  "kernelspec": {
   "display_name": "base",
   "language": "python",
   "name": "python3"
  },
  "language_info": {
   "codemirror_mode": {
    "name": "ipython",
    "version": 3
   },
   "file_extension": ".py",
   "mimetype": "text/x-python",
   "name": "python",
   "nbconvert_exporter": "python",
   "pygments_lexer": "ipython3",
   "version": "3.12.3"
  }
 },
 "nbformat": 4,
 "nbformat_minor": 2
}
