{
 "cells": [
  {
   "cell_type": "code",
   "execution_count": 1,
   "metadata": {},
   "outputs": [],
   "source": [
    "import numpy as np"
   ]
  },
  {
   "cell_type": "code",
   "execution_count": 3,
   "metadata": {},
   "outputs": [
    {
     "name": "stdout",
     "output_type": "stream",
     "text": [
      "[2 3 4 5 6]\n",
      "[1 2 3 4 5]\n",
      "[ 2  4  6  8 10]\n",
      "[1. 2. 3. 4. 5.]\n"
     ]
    }
   ],
   "source": [
    "## Basic operation\n",
    "arr = np.array([1, 2, 3, 4, 5])\n",
    "\n",
    "## element-wise operation\n",
    "arr = arr + 1\n",
    "print(arr)\n",
    "\n",
    "arr = arr - 1\n",
    "print(arr)\n",
    "\n",
    "arr = arr * 2 \n",
    "print(arr)\n",
    "\n",
    "arr = arr / 2\n",
    "print(arr)"
   ]
  },
  {
   "cell_type": "code",
   "execution_count": 9,
   "metadata": {},
   "outputs": [
    {
     "name": "stdout",
     "output_type": "stream",
     "text": [
      "[[ 6  8]\n",
      " [10 12]]\n",
      "[[-4 -4]\n",
      " [-4 -4]]\n",
      "[[ 5 12]\n",
      " [21 32]]\n",
      "[[19 22]\n",
      " [43 50]]\n",
      "[[19 22]\n",
      " [43 50]]\n"
     ]
    }
   ],
   "source": [
    "## matrix operation\n",
    "\n",
    "array1 = np.array([[1, 2], [3, 4]])\n",
    "array2 = np.array([[5, 6], [7, 8]])\n",
    "\n",
    "print(array1 + array2)\n",
    "print(array1 - array2)\n",
    "print(array1 * array2) ## this is element-wise multiplication\n",
    "print(array1 @ array2) ## this is matrix multiplication\n",
    "print(np.dot(array1, array2)) ## this is matrix multiplication"
   ]
  },
  {
   "cell_type": "code",
   "execution_count": 14,
   "metadata": {},
   "outputs": [
    {
     "name": "stdout",
     "output_type": "stream",
     "text": [
      "1\n",
      "2\n",
      "[2 3]\n",
      "[1 2 3]\n",
      "[4 5]\n",
      "[ 1  2 10  4  5]\n"
     ]
    }
   ],
   "source": [
    "## Array indexing and slicing\n",
    "\n",
    "arr = np.array([1, 2, 3, 4, 5])\n",
    "\n",
    "## Access specific element\n",
    "print(arr[0])\n",
    "print(arr[1])\n",
    "\n",
    "## Slice array\n",
    "print(arr[1:3]) ## 3 is exclusive\n",
    "print(arr[:3])\n",
    "print(arr[3:])\n",
    "\n",
    "## Modify element\n",
    "arr[2] = 10\n",
    "print(arr)\n"
   ]
  },
  {
   "cell_type": "code",
   "execution_count": 25,
   "metadata": {},
   "outputs": [
    {
     "name": "stdout",
     "output_type": "stream",
     "text": [
      "1\n",
      "[1 2 3]\n",
      "[1 4 7]\n",
      "[[1 2]\n",
      " [4 5]]\n"
     ]
    }
   ],
   "source": [
    "## Slicing 2D array\n",
    "matrix = np.array([[1, 2, 3], [4, 5, 6], [7, 8, 9]])\n",
    "\n",
    "print(matrix[0, 0]) ## 0 row, 0 column\n",
    "print(matrix[0, :]) ## first row, all columns\n",
    "print(matrix[:, 0]) ## all rows, first column\n",
    "print(matrix[0:2, 0:2]) ## first 2 rows, first 2 columns, this is a sub-matrix "
   ]
  }
 ],
 "metadata": {
  "kernelspec": {
   "display_name": "base",
   "language": "python",
   "name": "python3"
  },
  "language_info": {
   "codemirror_mode": {
    "name": "ipython",
    "version": 3
   },
   "file_extension": ".py",
   "mimetype": "text/x-python",
   "name": "python",
   "nbconvert_exporter": "python",
   "pygments_lexer": "ipython3",
   "version": "3.11.7"
  }
 },
 "nbformat": 4,
 "nbformat_minor": 2
}
