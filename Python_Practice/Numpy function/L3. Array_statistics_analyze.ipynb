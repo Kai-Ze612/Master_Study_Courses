{
 "cells": [
  {
   "cell_type": "code",
   "execution_count": 2,
   "metadata": {},
   "outputs": [],
   "source": [
    "import numpy as np"
   ]
  },
  {
   "cell_type": "markdown",
   "metadata": {},
   "source": [
    "## Mean\n",
    "$mean = \\frac{1}{N} \\sum (x_i)$\n",
    "\n",
    "## Std\n",
    "$\\text{std} = \\sqrt{\\frac{1}{N} \\sum_{i=1}^{N} (x_i - \\mu)^2}$"
   ]
  },
  {
   "cell_type": "code",
   "execution_count": 21,
   "metadata": {},
   "outputs": [
    {
     "name": "stdout",
     "output_type": "stream",
     "text": [
      "15\n",
      "3.0\n",
      "5\n",
      "1\n",
      "\n",
      " [[42 44 46 48 50]\n",
      " [52 54 56 58 60]]\n",
      "[[37 39 41 43 45]\n",
      " [57 59 61 63 65]]\n",
      "[[ 90 115]\n",
      " [140 165]]\n",
      "1.4142135623730951\n",
      "2.0\n",
      "\n",
      "\n",
      " [[5. 5. 5. 5. 5.]\n",
      " [5. 5. 5. 5. 5.]]\n",
      "[[2.5 2.5 2.5 2.5 2.5]\n",
      " [2.5 2.5 2.5 2.5 2.5]]\n",
      "4\n",
      "0\n"
     ]
    }
   ],
   "source": [
    "array1 = np.array([1,2,3,4,5])\n",
    "array2 = np.array([[[16,17,18,19,20], [21,22,23,24,25]], [[26,27,28,29,30], [31,32,33,34,35]]])\n",
    "\n",
    "## sum, mean, max, min operation, useful for statistics and data analysis\n",
    "print(np.sum(array1)) ## sum up all elements in the array\n",
    "print(np.mean(array1)) ## calculate the mean of the array\n",
    "print(np.max(array1))\n",
    "print(np.min(array1))\n",
    "\n",
    "## sum, mean, max, min operation along specific axis\n",
    "print(\"\\n\",np.sum(array2, axis=0)) ## sum up all elemements along axis 0 (two 2x5 arrays)\n",
    "print(np.sum(array2, axis=1)) ## sum up all elemements along axis 1 (two 2x5 arrays)\n",
    "print(np.sum(array2, axis=2)) ## sum up all elemements along axis 2 (two 2x2 arrays)\n",
    "\n",
    "## standard deviation and variance\n",
    "print(np.std(array1))\n",
    "print(np.var(array1))\n",
    "\n",
    "## standard deviation and variance along specific axis\n",
    "print(\"\\n\\n\",np.std(array2, axis=0))\n",
    "print(np.std(array2, axis=1))\n",
    "\n",
    "## index of max and min\n",
    "print(np.argmax(array1))\n",
    "print(np.argmin(array1))"
   ]
  }
 ],
 "metadata": {
  "kernelspec": {
   "display_name": "base",
   "language": "python",
   "name": "python3"
  },
  "language_info": {
   "codemirror_mode": {
    "name": "ipython",
    "version": 3
   },
   "file_extension": ".py",
   "mimetype": "text/x-python",
   "name": "python",
   "nbconvert_exporter": "python",
   "pygments_lexer": "ipython3",
   "version": "3.11.7"
  }
 },
 "nbformat": 4,
 "nbformat_minor": 2
}
