{
 "cells": [
  {
   "cell_type": "markdown",
   "id": "39dcfc15",
   "metadata": {},
   "source": [
    "## Only for python\n",
    "Pickle files (.pkl) are specifically designed for Python. It is a way to serialize and deserialize Python objects. \"Serialization\" means converting a Python object into a byte stream that can be saved to a file or transmitted over a network. \"Deserialization\" is the reverse process, converting the byte stream back into a Python object.\n",
    "\n"
   ]
  },
  {
   "cell_type": "code",
   "execution_count": null,
   "id": "731c3634",
   "metadata": {},
   "outputs": [],
   "source": [
    "import pickle\n",
    "import os"
   ]
  },
  {
   "cell_type": "code",
   "execution_count": null,
   "id": "1f13f056",
   "metadata": {},
   "outputs": [],
   "source": [
    "data = {\n",
    "    'patients': [...],\n",
    "    'features': [...],\n",
    "    'gene_ids': [...]\n",
    "}\n",
    "\n",
    "# Define the file path\n",
    "file_path = os.path.join('/path/to/directory', 'data.pkl') ## define file name and path\n",
    "## the file path should contain the file directory, not just the folder.\n",
    "\n",
    "# Saving to a pickle file\n",
    "with open(file_path, 'wb') as file:  # 'wb' means write binary\n",
    "    pickle.dump(data, file) # Save the data to the file_name\n",
    "\n",
    "# Loading from a pickle file\n",
    "with open(file_path, 'rb') as file:  # 'rb' means read binary\n",
    "    loaded_data = pickle.load(file)  # Load the data from the file"
   ]
  }
 ],
 "metadata": {
  "kernelspec": {
   "display_name": "base",
   "language": "python",
   "name": "python3"
  },
  "language_info": {
   "codemirror_mode": {
    "name": "ipython",
    "version": 3
   },
   "file_extension": ".py",
   "mimetype": "text/x-python",
   "name": "python",
   "nbconvert_exporter": "python",
   "pygments_lexer": "ipython3",
   "version": "3.11.7"
  }
 },
 "nbformat": 4,
 "nbformat_minor": 5
}
