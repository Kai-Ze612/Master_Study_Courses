{
 "cells": [
  {
   "cell_type": "markdown",
   "id": "40c689b9",
   "metadata": {},
   "source": [
    "## Linear Algebra Operation\n"
   ]
  },
  {
   "cell_type": "code",
   "execution_count": 1,
   "id": "68ec16c0",
   "metadata": {},
   "outputs": [],
   "source": [
    "import numpy as np "
   ]
  },
  {
   "cell_type": "code",
   "execution_count": 6,
   "id": "058813bb",
   "metadata": {},
   "outputs": [
    {
     "name": "stdout",
     "output_type": "stream",
     "text": [
      "[[47 52 57]\n",
      " [64 71 78]\n",
      " [81 90 99]]\n"
     ]
    }
   ],
   "source": [
    "a = np.array([[1, 2, 3], [4, 5, 6]])\n",
    "b = np.array([[7, 8, 9], [10, 11, 12]])\n",
    "\n",
    "a = a.T\n",
    "c = np.dot(a, b)\n",
    "print(c)\n",
    "\n"
   ]
  },
  {
   "cell_type": "markdown",
   "id": "eb48f985",
   "metadata": {},
   "source": [
    "## Mean and Std\n",
    "### Mean\n",
    "$mean = \\frac{1}{N} \\sum (x_i)$\n",
    "\n",
    "### Std\n",
    "$\\text{std} = \\sqrt{\\frac{1}{N} \\sum_{i=1}^{N} (x_i - \\mu)^2}$"
   ]
  },
  {
   "cell_type": "code",
   "execution_count": null,
   "id": "c8599192",
   "metadata": {},
   "outputs": [],
   "source": [
    "array1 = np.array([1,2,3,4,5])\n",
    "array2 = np.array([[[16,17,18,19,20], [21,22,23,24,25]], [[26,27,28,29,30], [31,32,33,34,35]]])\n",
    "\n",
    "## sum, mean, max, min operation, useful for statistics and data analysis\n",
    "print(np.sum(array1)) ## sum up all elements in the array\n",
    "print(np.mean(array1)) ## calculate the mean of the array\n",
    "print(np.max(array1))\n",
    "print(np.min(array1))\n",
    "\n",
    "## sum, mean, max, min operation along specific axis\n",
    "print(\"\\n\",np.sum(array2, axis=0)) ## sum up all elemements along axis 0 (two 2x5 arrays)\n",
    "print(np.sum(array2, axis=1)) ## sum up all elemements along axis 1 (two 2x5 arrays)\n",
    "print(np.sum(array2, axis=2)) ## sum up all elemements along axis 2 (two 2x2 arrays)\n",
    "\n",
    "## standard deviation and variance\n",
    "print(np.std(array1))\n",
    "print(np.var(array1))\n",
    "\n",
    "## standard deviation and variance along specific axis\n",
    "print(\"\\n\\n\",np.std(array2, axis=0))\n",
    "print(np.std(array2, axis=1))\n",
    "\n",
    "## index of max and min\n",
    "print(np.argmax(array1))\n",
    "print(np.argmin(array1))"
   ]
  }
 ],
 "metadata": {
  "kernelspec": {
   "display_name": "base",
   "language": "python",
   "name": "python3"
  },
  "language_info": {
   "codemirror_mode": {
    "name": "ipython",
    "version": 3
   },
   "file_extension": ".py",
   "mimetype": "text/x-python",
   "name": "python",
   "nbconvert_exporter": "python",
   "pygments_lexer": "ipython3",
   "version": "3.12.3"
  }
 },
 "nbformat": 4,
 "nbformat_minor": 5
}
